{
 "cells": [
  {
   "cell_type": "markdown",
   "id": "03edfaaa-29fd-456f-a864-7223060e9580",
   "metadata": {},
   "source": [
    "## NumPy Arrays ##"
   ]
  },
  {
   "cell_type": "code",
   "execution_count": 1,
   "id": "7a41ad2c-4010-4dc6-96c3-649744344177",
   "metadata": {},
   "outputs": [],
   "source": [
    "my_list = [1,2,3]"
   ]
  },
  {
   "cell_type": "markdown",
   "id": "7c933e55-c20c-4132-8d22-ff9d44dfa619",
   "metadata": {},
   "source": [
    "usar la variable visualiza my_list como una lista de python"
   ]
  },
  {
   "cell_type": "code",
   "execution_count": 2,
   "id": "82d1e98e-2de0-4aa9-90a0-c1a3ae4cd481",
   "metadata": {},
   "outputs": [
    {
     "data": {
      "text/plain": [
       "[1, 2, 3]"
      ]
     },
     "execution_count": 2,
     "metadata": {},
     "output_type": "execute_result"
    }
   ],
   "source": [
    "my_list"
   ]
  },
  {
   "cell_type": "code",
   "execution_count": 3,
   "id": "deb91540-59b7-4a92-95b3-794bd23e7ad1",
   "metadata": {},
   "outputs": [],
   "source": [
    "import numpy as np"
   ]
  },
  {
   "cell_type": "markdown",
   "id": "9b6a588d-7e4b-4d1e-ad63-e6078d00e52c",
   "metadata": {},
   "source": [
    "Ahora se muestra como un array"
   ]
  },
  {
   "cell_type": "code",
   "execution_count": 41,
   "id": "a0fee155-c54b-46ad-92b4-fa0f29de6e83",
   "metadata": {},
   "outputs": [],
   "source": [
    "arr = np.array(my_list)"
   ]
  },
  {
   "cell_type": "code",
   "execution_count": 42,
   "id": "f8b81bd4-3d79-4e4a-9cd1-f53affe0b659",
   "metadata": {},
   "outputs": [
    {
     "data": {
      "text/plain": [
       "array([1, 2, 3])"
      ]
     },
     "execution_count": 42,
     "metadata": {},
     "output_type": "execute_result"
    }
   ],
   "source": [
    "arr"
   ]
  },
  {
   "cell_type": "code",
   "execution_count": 7,
   "id": "b8120aa3-1774-437f-918b-05b558920b4e",
   "metadata": {},
   "outputs": [],
   "source": [
    "my_mat = [[1,2,3],[4,5,6],[7,8,9]]"
   ]
  },
  {
   "cell_type": "code",
   "execution_count": 8,
   "id": "58810eca-9d2f-4873-852e-79567c5d287d",
   "metadata": {},
   "outputs": [],
   "source": [
    "mat = np.array(my_mat)"
   ]
  },
  {
   "cell_type": "code",
   "execution_count": 9,
   "id": "71891fe5-06fd-404e-a212-7d6ac6fdee0e",
   "metadata": {},
   "outputs": [
    {
     "data": {
      "text/plain": [
       "array([[1, 2, 3],\n",
       "       [4, 5, 6],\n",
       "       [7, 8, 9]])"
      ]
     },
     "execution_count": 9,
     "metadata": {},
     "output_type": "execute_result"
    }
   ],
   "source": [
    "mat"
   ]
  },
  {
   "cell_type": "code",
   "execution_count": 11,
   "id": "2eabbcdf-fb52-4d85-9240-e69c259ad0b4",
   "metadata": {},
   "outputs": [
    {
     "data": {
      "text/plain": [
       "array([0, 1, 2, 3, 4, 5, 6, 7, 8, 9])"
      ]
     },
     "execution_count": 11,
     "metadata": {},
     "output_type": "execute_result"
    }
   ],
   "source": [
    "np.arange(0,10)"
   ]
  },
  {
   "cell_type": "code",
   "execution_count": 14,
   "id": "2881b25b-83b7-4b95-b372-7e7c3b3d7698",
   "metadata": {},
   "outputs": [
    {
     "data": {
      "text/plain": [
       "array([ 0,  2,  4,  6,  8, 10])"
      ]
     },
     "execution_count": 14,
     "metadata": {},
     "output_type": "execute_result"
    }
   ],
   "source": [
    "np.arange(0,11,2)"
   ]
  },
  {
   "cell_type": "code",
   "execution_count": 15,
   "id": "972e1d5a-a2df-4fe9-9a9e-94caa5bb0cd0",
   "metadata": {},
   "outputs": [
    {
     "data": {
      "text/plain": [
       "array([0., 0., 0.])"
      ]
     },
     "execution_count": 15,
     "metadata": {},
     "output_type": "execute_result"
    }
   ],
   "source": [
    "np.zeros(3)"
   ]
  },
  {
   "cell_type": "code",
   "execution_count": 17,
   "id": "efec89b4-38b5-4e3f-82d6-497d0f644128",
   "metadata": {},
   "outputs": [
    {
     "data": {
      "text/plain": [
       "array([[0., 0., 0.],\n",
       "       [0., 0., 0.]])"
      ]
     },
     "execution_count": 17,
     "metadata": {},
     "output_type": "execute_result"
    }
   ],
   "source": [
    "np.zeros((2,3))"
   ]
  },
  {
   "cell_type": "code",
   "execution_count": 18,
   "id": "a813d1f3-5295-4109-8e76-bbf84151d135",
   "metadata": {},
   "outputs": [
    {
     "data": {
      "text/plain": [
       "array([1., 1., 1., 1.])"
      ]
     },
     "execution_count": 18,
     "metadata": {},
     "output_type": "execute_result"
    }
   ],
   "source": [
    "np.ones(4)"
   ]
  },
  {
   "cell_type": "code",
   "execution_count": 19,
   "id": "17f7b589-ac0d-491c-805f-1fc44505b72f",
   "metadata": {},
   "outputs": [
    {
     "data": {
      "text/plain": [
       "array([[1., 1.],\n",
       "       [1., 1.],\n",
       "       [1., 1.],\n",
       "       [1., 1.]])"
      ]
     },
     "execution_count": 19,
     "metadata": {},
     "output_type": "execute_result"
    }
   ],
   "source": [
    "np.ones((4,2))"
   ]
  },
  {
   "cell_type": "markdown",
   "id": "774c4e74-875f-4908-a58d-91ef55a3aad8",
   "metadata": {},
   "source": [
    "The devuelve la distancia entre 0 y 5, de forma equilibrada en 10 numeros"
   ]
  },
  {
   "cell_type": "code",
   "execution_count": 25,
   "id": "1a5af195-5ead-434a-9fc1-f33d2818381b",
   "metadata": {},
   "outputs": [
    {
     "data": {
      "text/plain": [
       "array([0.        , 0.55555556, 1.11111111, 1.66666667, 2.22222222,\n",
       "       2.77777778, 3.33333333, 3.88888889, 4.44444444, 5.        ])"
      ]
     },
     "execution_count": 25,
     "metadata": {},
     "output_type": "execute_result"
    }
   ],
   "source": [
    "np.linspace(0,5,10)"
   ]
  },
  {
   "cell_type": "markdown",
   "id": "e6418192-702b-48a4-8a54-8e57168c70c1",
   "metadata": {},
   "source": [
    "### Identity matrix ###\n",
    "2D square matrix (n_rows = n_columns), por eso solo toma un argumento. Diagonal de 1s y el resto 0s"
   ]
  },
  {
   "cell_type": "code",
   "execution_count": 26,
   "id": "2bbcfed2-8c0a-4f1c-8363-ddc354d97c6d",
   "metadata": {},
   "outputs": [
    {
     "data": {
      "text/plain": [
       "array([[1., 0., 0., 0., 0.],\n",
       "       [0., 1., 0., 0., 0.],\n",
       "       [0., 0., 1., 0., 0.],\n",
       "       [0., 0., 0., 1., 0.],\n",
       "       [0., 0., 0., 0., 1.]])"
      ]
     },
     "execution_count": 26,
     "metadata": {},
     "output_type": "execute_result"
    }
   ],
   "source": [
    "np.eye(5)"
   ]
  },
  {
   "cell_type": "markdown",
   "id": "c40dc783-54f8-47b8-bcaf-26cde610155d",
   "metadata": {},
   "source": [
    "## .random ##\n",
    "### .rand() ###\n",
    "Devuelve un array de n números aleatorios entre 0 y 1. Si quiero una matriz, le  paso dos argumentos"
   ]
  },
  {
   "cell_type": "code",
   "execution_count": 27,
   "id": "f99d3be5-f682-4677-a320-78bcfa310f07",
   "metadata": {},
   "outputs": [
    {
     "data": {
      "text/plain": [
       "array([0.1413478 , 0.56936603, 0.5665509 , 0.08567398, 0.83379205])"
      ]
     },
     "execution_count": 27,
     "metadata": {},
     "output_type": "execute_result"
    }
   ],
   "source": [
    "np.random.rand(5)"
   ]
  },
  {
   "cell_type": "code",
   "execution_count": 28,
   "id": "1b52caff-eae2-40b2-b99c-437d60eb54cd",
   "metadata": {},
   "outputs": [
    {
     "data": {
      "text/plain": [
       "array([[0.21577073, 0.52833094],\n",
       "       [0.40716056, 0.92803123],\n",
       "       [0.27194311, 0.66677936],\n",
       "       [0.54611062, 0.82829073],\n",
       "       [0.06415463, 0.63414037]])"
      ]
     },
     "execution_count": 28,
     "metadata": {},
     "output_type": "execute_result"
    }
   ],
   "source": [
    "np.random.rand(5,2)"
   ]
  },
  {
   "cell_type": "markdown",
   "id": "d730a0b4-b693-4b1a-9728-2d0421240f32",
   "metadata": {},
   "source": [
    "### .randn() ###\n",
    "##### Normal or Gaussian Distribution \n",
    "Devuelve un array de n números aleatorios alrededor de 0. Si quiero una matriz, le  paso dos argumentos"
   ]
  },
  {
   "cell_type": "code",
   "execution_count": 31,
   "id": "5d23b9d1-bdda-40d4-ad3f-94729fc75ed7",
   "metadata": {},
   "outputs": [
    {
     "data": {
      "text/plain": [
       "array([-0.63197467, -0.06356176,  0.46276645, -2.11707233,  0.85729184])"
      ]
     },
     "execution_count": 31,
     "metadata": {},
     "output_type": "execute_result"
    }
   ],
   "source": [
    "np.random.randn(5)"
   ]
  },
  {
   "cell_type": "code",
   "execution_count": 32,
   "id": "930f8138-23e7-4338-b90c-74cb23f579b6",
   "metadata": {},
   "outputs": [
    {
     "data": {
      "text/plain": [
       "array([[-1.25026861, -0.61622613,  1.15108103],\n",
       "       [-1.36880069, -1.28787438, -0.82362984],\n",
       "       [ 1.08372439, -2.21300169,  0.84230949],\n",
       "       [ 1.37970557, -0.9485038 , -1.57047424]])"
      ]
     },
     "execution_count": 32,
     "metadata": {},
     "output_type": "execute_result"
    }
   ],
   "source": [
    "np.random.randn(4,3)"
   ]
  },
  {
   "cell_type": "markdown",
   "id": "2686cdbe-eb78-4d06-8e5e-17d8eeb66ed5",
   "metadata": {},
   "source": [
    "### .randint() ###\n",
    "Devuelve un array de n números aleatorios entre un mínimo y máximo definidos. Si quiero una matriz, le  paso dos argumentos"
   ]
  },
  {
   "cell_type": "code",
   "execution_count": 37,
   "id": "5d55788a-d0a2-40ee-8e6f-9cae1b586aa5",
   "metadata": {},
   "outputs": [
    {
     "data": {
      "text/plain": [
       "array([57, 26, 39,  2])"
      ]
     },
     "execution_count": 37,
     "metadata": {},
     "output_type": "execute_result"
    }
   ],
   "source": [
    "np.random.randint(1,100,4)"
   ]
  },
  {
   "cell_type": "markdown",
   "id": "e9a05ec9-1122-4237-b0a4-38402d1555ee",
   "metadata": {},
   "source": [
    "## .reshape() ##\n",
    "Hay que tener en cuenta de que solo podemos reformatear dentro del límite establecido de valores. En el siguiente ejemplo, arr tiene 25 valores; al reformatearlo a una matriz de 5*5, el número de valores coincide, pero si hacemos 5*6 o de 2*4, nos dará error"
   ]
  },
  {
   "cell_type": "code",
   "execution_count": 43,
   "id": "facc5feb-821d-4c78-9f6e-912024efa0b8",
   "metadata": {},
   "outputs": [],
   "source": [
    "arr = np.arange(25)"
   ]
  },
  {
   "cell_type": "code",
   "execution_count": 47,
   "id": "8e3ae438-1fd0-46c3-997e-0cc3746c398d",
   "metadata": {},
   "outputs": [
    {
     "data": {
      "text/plain": [
       "array([ 0,  1,  2,  3,  4,  5,  6,  7,  8,  9, 10, 11, 12, 13, 14, 15, 16,\n",
       "       17, 18, 19, 20, 21, 22, 23, 24])"
      ]
     },
     "execution_count": 47,
     "metadata": {},
     "output_type": "execute_result"
    }
   ],
   "source": [
    "arr"
   ]
  },
  {
   "cell_type": "code",
   "execution_count": 54,
   "id": "d7b4bada-fe35-4844-aab6-6bdfab679b28",
   "metadata": {},
   "outputs": [
    {
     "data": {
      "text/plain": [
       "array([[ 0,  1,  2,  3,  4],\n",
       "       [ 5,  6,  7,  8,  9],\n",
       "       [10, 11, 12, 13, 14],\n",
       "       [15, 16, 17, 18, 19],\n",
       "       [20, 21, 22, 23, 24]])"
      ]
     },
     "execution_count": 54,
     "metadata": {},
     "output_type": "execute_result"
    }
   ],
   "source": [
    "arr.reshape(5,5)"
   ]
  },
  {
   "cell_type": "code",
   "execution_count": 61,
   "id": "c53aff7a-7082-4d86-bf4a-2d46a2cde53a",
   "metadata": {},
   "outputs": [],
   "source": [
    "ranarr = np.random.randint(0,50,10)"
   ]
  },
  {
   "cell_type": "code",
   "execution_count": 62,
   "id": "28c6216a-1b56-4034-b7b0-af37623d9d93",
   "metadata": {},
   "outputs": [
    {
     "data": {
      "text/plain": [
       "array([19,  7, 25, 21, 41, 12, 31,  4, 40, 13])"
      ]
     },
     "execution_count": 62,
     "metadata": {},
     "output_type": "execute_result"
    }
   ],
   "source": [
    "ranarr"
   ]
  },
  {
   "cell_type": "markdown",
   "id": "82455279-5722-405a-a103-3ea103ddbbfd",
   "metadata": {},
   "source": [
    "## .max() & .min() ##\n",
    "Devuelven los valores máximo y mínimo"
   ]
  },
  {
   "cell_type": "code",
   "execution_count": 66,
   "id": "cbf75bba-6d00-477b-a660-183ed1905d97",
   "metadata": {},
   "outputs": [
    {
     "data": {
      "text/plain": [
       "array([19,  7, 25, 21, 41, 12, 31,  4, 40, 13])"
      ]
     },
     "execution_count": 66,
     "metadata": {},
     "output_type": "execute_result"
    }
   ],
   "source": [
    "ranarr"
   ]
  },
  {
   "cell_type": "code",
   "execution_count": 67,
   "id": "dbf1dc85-eceb-4377-b23c-00da8ca90997",
   "metadata": {},
   "outputs": [
    {
     "data": {
      "text/plain": [
       "41"
      ]
     },
     "execution_count": 67,
     "metadata": {},
     "output_type": "execute_result"
    }
   ],
   "source": [
    "ranarr.max()"
   ]
  },
  {
   "cell_type": "code",
   "execution_count": 68,
   "id": "6e5e3724-01f4-4d76-8ad6-2f71d36ee98a",
   "metadata": {},
   "outputs": [
    {
     "data": {
      "text/plain": [
       "4"
      ]
     },
     "execution_count": 68,
     "metadata": {},
     "output_type": "execute_result"
    }
   ],
   "source": [
    "ranarr.min()"
   ]
  },
  {
   "cell_type": "markdown",
   "id": "2e7b7091-572f-46f8-a330-ffc1c3b180ae",
   "metadata": {},
   "source": [
    "## .argmax() & .argmin() ##\n",
    "Devuelven los indices de los valores máximo y mínimo"
   ]
  },
  {
   "cell_type": "code",
   "execution_count": 69,
   "id": "c00f8ad3-56c6-4e42-9c46-e2aab6e755de",
   "metadata": {},
   "outputs": [
    {
     "data": {
      "text/plain": [
       "4"
      ]
     },
     "execution_count": 69,
     "metadata": {},
     "output_type": "execute_result"
    }
   ],
   "source": [
    "ranarr.argmax()"
   ]
  },
  {
   "cell_type": "code",
   "execution_count": 70,
   "id": "c77716ab-aae4-40b5-93ba-978a00cb9f85",
   "metadata": {},
   "outputs": [
    {
     "data": {
      "text/plain": [
       "7"
      ]
     },
     "execution_count": 70,
     "metadata": {},
     "output_type": "execute_result"
    }
   ],
   "source": [
    "ranarr.argmin()"
   ]
  },
  {
   "cell_type": "markdown",
   "id": "24abba55-e221-41dd-94bb-c463826a192e",
   "metadata": {},
   "source": [
    "## .shape ##\n",
    "Indica la estructura del array"
   ]
  },
  {
   "cell_type": "code",
   "execution_count": 78,
   "id": "03310e1b-263d-4140-9eab-cb90fe52fdea",
   "metadata": {},
   "outputs": [
    {
     "data": {
      "text/plain": [
       "array([19,  7, 25, 21, 41, 12, 31,  4, 40, 13])"
      ]
     },
     "execution_count": 78,
     "metadata": {},
     "output_type": "execute_result"
    }
   ],
   "source": [
    "ranarr"
   ]
  },
  {
   "cell_type": "code",
   "execution_count": 79,
   "id": "2da27636-fa9a-4899-870d-4f0a974baf78",
   "metadata": {},
   "outputs": [
    {
     "data": {
      "text/plain": [
       "(10,)"
      ]
     },
     "execution_count": 79,
     "metadata": {},
     "output_type": "execute_result"
    }
   ],
   "source": [
    "ranarr.shape"
   ]
  },
  {
   "cell_type": "code",
   "execution_count": 80,
   "id": "ff6de1a7-a9b8-454f-9c8c-a41bd0d311fc",
   "metadata": {},
   "outputs": [],
   "source": [
    "arr = arr.reshape(5,5)"
   ]
  },
  {
   "cell_type": "code",
   "execution_count": 81,
   "id": "534ff187-77fa-4471-a8c0-12fd945ca63a",
   "metadata": {},
   "outputs": [
    {
     "data": {
      "text/plain": [
       "(5, 5)"
      ]
     },
     "execution_count": 81,
     "metadata": {},
     "output_type": "execute_result"
    }
   ],
   "source": [
    "arr.shape"
   ]
  },
  {
   "cell_type": "markdown",
   "id": "7f530afc-529e-48e4-9a62-a3c73d22b081",
   "metadata": {},
   "source": [
    "## .dtype ##\n",
    "Indica el tipo de dato contenido en un array"
   ]
  },
  {
   "cell_type": "code",
   "execution_count": 82,
   "id": "0e11e753-5a29-423b-8abb-602145884962",
   "metadata": {},
   "outputs": [
    {
     "data": {
      "text/plain": [
       "dtype('int32')"
      ]
     },
     "execution_count": 82,
     "metadata": {},
     "output_type": "execute_result"
    }
   ],
   "source": [
    "arr.dtype"
   ]
  },
  {
   "cell_type": "code",
   "execution_count": null,
   "id": "910c2a50-5b20-45e4-b36a-92f24e268869",
   "metadata": {},
   "outputs": [],
   "source": []
  }
 ],
 "metadata": {
  "kernelspec": {
   "display_name": "Python 3 (ipykernel)",
   "language": "python",
   "name": "python3"
  },
  "language_info": {
   "codemirror_mode": {
    "name": "ipython",
    "version": 3
   },
   "file_extension": ".py",
   "mimetype": "text/x-python",
   "name": "python",
   "nbconvert_exporter": "python",
   "pygments_lexer": "ipython3",
   "version": "3.12.3"
  }
 },
 "nbformat": 4,
 "nbformat_minor": 5
}
